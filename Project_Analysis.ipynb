{
 "cells": [
  {
   "cell_type": "markdown",
   "id": "b494f050",
   "metadata": {},
   "source": [
    "Project: Conditional Probability Analysis\n",
    "Course: Mathematics for Data Science\n",
    "Author: Omer Zaman\n",
    "Date: 12 April 2025"
   ]
  },
  {
   "cell_type": "markdown",
   "id": "9da39a68",
   "metadata": {},
   "source": [
    "Goal:\n",
    "- Generate Data (40,000 for age values)\n",
    "- Purchasing Decision (Randomised)\n",
    "- Check weighted purhcases by assigning a probability based on age and calculate it's Conditional Probability (learn this)\n",
    "- Check weightless pruchases \n",
    "- Visualize the two via graph\n",
    "- Analyze"
   ]
  },
  {
   "cell_type": "code",
   "execution_count": null,
   "id": "71fc82c9",
   "metadata": {},
   "outputs": [],
   "source": [
    "import numpy as np\n",
    "import pandas as pd\n",
    "import matplotlib.pyplot as plt\n",
    "import seaborn as sns"
   ]
  },
  {
   "cell_type": "code",
   "execution_count": 13,
   "id": "23349843",
   "metadata": {},
   "outputs": [
    {
     "data": {
      "text/html": [
       "<div>\n",
       "<style scoped>\n",
       "    .dataframe tbody tr th:only-of-type {\n",
       "        vertical-align: middle;\n",
       "    }\n",
       "\n",
       "    .dataframe tbody tr th {\n",
       "        vertical-align: top;\n",
       "    }\n",
       "\n",
       "    .dataframe thead th {\n",
       "        text-align: right;\n",
       "    }\n",
       "</style>\n",
       "<table border=\"1\" class=\"dataframe\">\n",
       "  <thead>\n",
       "    <tr style=\"text-align: right;\">\n",
       "      <th></th>\n",
       "      <th>Age</th>\n",
       "    </tr>\n",
       "  </thead>\n",
       "  <tbody>\n",
       "    <tr>\n",
       "      <th>0</th>\n",
       "      <td>20</td>\n",
       "    </tr>\n",
       "    <tr>\n",
       "      <th>1</th>\n",
       "      <td>20</td>\n",
       "    </tr>\n",
       "    <tr>\n",
       "      <th>2</th>\n",
       "      <td>50</td>\n",
       "    </tr>\n",
       "    <tr>\n",
       "      <th>3</th>\n",
       "      <td>70</td>\n",
       "    </tr>\n",
       "    <tr>\n",
       "      <th>4</th>\n",
       "      <td>30</td>\n",
       "    </tr>\n",
       "  </tbody>\n",
       "</table>\n",
       "</div>"
      ],
      "text/plain": [
       "   Age\n",
       "0   20\n",
       "1   20\n",
       "2   50\n",
       "3   70\n",
       "4   30"
      ]
     },
     "execution_count": 13,
     "metadata": {},
     "output_type": "execute_result"
    }
   ],
   "source": [
    "# For reproducibility when the professor or I are testing the code\n",
    "np.random.seed(50)\n",
    "ages = np.random.choice([20, 30, 40, 50, 60, 70], size=40000)\n",
    "df = pd.DataFrame({'Age': ages})\n",
    "df.head()"
   ]
  },
  {
   "cell_type": "code",
   "execution_count": null,
   "id": "16c897a5",
   "metadata": {},
   "outputs": [
    {
     "data": {
      "text/html": [
       "<div>\n",
       "<style scoped>\n",
       "    .dataframe tbody tr th:only-of-type {\n",
       "        vertical-align: middle;\n",
       "    }\n",
       "\n",
       "    .dataframe tbody tr th {\n",
       "        vertical-align: top;\n",
       "    }\n",
       "\n",
       "    .dataframe thead th {\n",
       "        text-align: right;\n",
       "    }\n",
       "</style>\n",
       "<table border=\"1\" class=\"dataframe\">\n",
       "  <thead>\n",
       "    <tr style=\"text-align: right;\">\n",
       "      <th></th>\n",
       "      <th>Age</th>\n",
       "      <th>Weighted_Purchase</th>\n",
       "    </tr>\n",
       "  </thead>\n",
       "  <tbody>\n",
       "    <tr>\n",
       "      <th>0</th>\n",
       "      <td>20</td>\n",
       "      <td>0</td>\n",
       "    </tr>\n",
       "    <tr>\n",
       "      <th>1</th>\n",
       "      <td>20</td>\n",
       "      <td>0</td>\n",
       "    </tr>\n",
       "    <tr>\n",
       "      <th>2</th>\n",
       "      <td>50</td>\n",
       "      <td>0</td>\n",
       "    </tr>\n",
       "    <tr>\n",
       "      <th>3</th>\n",
       "      <td>70</td>\n",
       "      <td>1</td>\n",
       "    </tr>\n",
       "    <tr>\n",
       "      <th>4</th>\n",
       "      <td>30</td>\n",
       "      <td>0</td>\n",
       "    </tr>\n",
       "  </tbody>\n",
       "</table>\n",
       "</div>"
      ],
      "text/plain": [
       "   Age  Weighted_Purchase\n",
       "0   20                  0\n",
       "1   20                  0\n",
       "2   50                  0\n",
       "3   70                  1\n",
       "4   30                  0"
      ]
     },
     "execution_count": 15,
     "metadata": {},
     "output_type": "execute_result"
    }
   ],
   "source": [
    "# Assign Probability Weight for Bias (Might change)\n",
    "age_weights = {20: 0.1, 30: 0.2, 40: 0.3, 50: 0.5, 60: 0.7, 70: 0.9}\n",
    "\n",
    "# Assigning random Purchase where 1 = Purchase, 0 = No Purchase\n",
    "df['Weighted_Purchase'] = df['Age'].map(age_weights).apply(lambda p: np.random.binomial(1, p))\n",
    "df.head()\n"
   ]
  },
  {
   "cell_type": "code",
   "execution_count": null,
   "id": "7ba541e5",
   "metadata": {},
   "outputs": [],
   "source": [
    "# Assigning same probability due to Unbiased\n",
    "uniform_weights = {20: 0.2, 30: 0.2, 40: 0.2, 50: 0.2, 60: 0.2, 70: 0.2}\n",
    "\n",
    "# Assigning random Purchase where 1 = Purchase, 0 = No Purchase\n",
    "df['Uniform_Purchase'] = df['Age'].map(uniform_weights).apply(lambda p: np.random.binomial(1, p))"
   ]
  }
 ],
 "metadata": {
  "kernelspec": {
   "display_name": "Python 3",
   "language": "python",
   "name": "python3"
  },
  "language_info": {
   "codemirror_mode": {
    "name": "ipython",
    "version": 3
   },
   "file_extension": ".py",
   "mimetype": "text/x-python",
   "name": "python",
   "nbconvert_exporter": "python",
   "pygments_lexer": "ipython3",
   "version": "3.10.11"
  }
 },
 "nbformat": 4,
 "nbformat_minor": 5
}
