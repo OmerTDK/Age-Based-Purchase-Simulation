{
 "cells": [
  {
   "cell_type": "markdown",
   "id": "b494f050",
   "metadata": {},
   "source": [
    "Project: Mathematics For Data Science\n",
    "Author: Omer Zaman\n",
    "Date: 12 April 2025"
   ]
  }
 ],
 "metadata": {
  "language_info": {
   "name": "python"
  }
 },
 "nbformat": 4,
 "nbformat_minor": 5
}
